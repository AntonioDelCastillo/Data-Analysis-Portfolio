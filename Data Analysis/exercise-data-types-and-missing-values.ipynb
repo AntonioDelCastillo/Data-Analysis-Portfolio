{
 "cells": [
  {
   "cell_type": "markdown",
   "metadata": {},
   "source": [
    "**This notebook is an exercise in the [Pandas](https://www.kaggle.com/learn/pandas) course.  You can reference the tutorial at [this link](https://www.kaggle.com/residentmario/data-types-and-missing-values).**\n",
    "\n",
    "---\n"
   ]
  },
  {
   "cell_type": "markdown",
   "metadata": {},
   "source": [
    "# Introduction\n",
    "\n",
    "Run the following cell to load your data and some utility functions."
   ]
  },
  {
   "cell_type": "code",
   "execution_count": 2,
   "metadata": {
    "execution": {
     "iopub.execute_input": "2021-10-11T09:38:27.388562Z",
     "iopub.status.busy": "2021-10-11T09:38:27.387772Z",
     "iopub.status.idle": "2021-10-11T09:38:30.482591Z",
     "shell.execute_reply": "2021-10-11T09:38:30.481359Z",
     "shell.execute_reply.started": "2021-10-11T09:38:27.388531Z"
    }
   },
   "outputs": [],
   "source": [
    "import pandas as pd\n",
    "\n",
    "reviews = pd.read_csv(\"../input/wine-reviews/winemag-data-130k-v2.csv\", index_col=0)\n",
    "\n",
    "from learntools.core import binder; binder.bind(globals())\n",
    "from learntools.pandas.data_types_and_missing_data import *\n",
    "print(\"Setup complete.\")"
   ]
  },
  {
   "cell_type": "markdown",
   "metadata": {},
   "source": [
    "# Exercises"
   ]
  },
  {
   "cell_type": "markdown",
   "metadata": {},
   "source": [
    "## 1. \n",
    "What is the data type of the `points` column in the dataset?"
   ]
  },
  {
   "cell_type": "code",
   "execution_count": 3,
   "metadata": {
    "execution": {
     "iopub.execute_input": "2021-10-11T09:38:33.116056Z",
     "iopub.status.busy": "2021-10-11T09:38:33.115823Z",
     "iopub.status.idle": "2021-10-11T09:38:33.124319Z",
     "shell.execute_reply": "2021-10-11T09:38:33.123906Z",
     "shell.execute_reply.started": "2021-10-11T09:38:33.116035Z"
    }
   },
   "outputs": [],
   "source": [
    "# Your code here\n",
    "dtype = reviews.point\n",
    "\n",
    "# Check your answer\n",
    "q1.check()"
   ]
  },
  {
   "cell_type": "code",
   "execution_count": null,
   "metadata": {},
   "outputs": [],
   "source": [
    "#q1.hint()\n",
    "#q1.solution()"
   ]
  },
  {
   "cell_type": "markdown",
   "metadata": {},
   "source": [
    "## 2. \n",
    "Create a Series from entries in the `points` column, but convert the entries to strings. Hint: strings are `str` in native Python."
   ]
  },
  {
   "cell_type": "code",
   "execution_count": 4,
   "metadata": {
    "execution": {
     "iopub.execute_input": "2021-10-11T09:39:01.912280Z",
     "iopub.status.busy": "2021-10-11T09:39:01.911945Z",
     "iopub.status.idle": "2021-10-11T09:39:02.008767Z",
     "shell.execute_reply": "2021-10-11T09:39:02.007376Z",
     "shell.execute_reply.started": "2021-10-11T09:39:01.912258Z"
    }
   },
   "outputs": [],
   "source": [
    "point_strings = reviews.points.astype('str')\n",
    "\n",
    "# Check your answer\n",
    "q2.check()"
   ]
  },
  {
   "cell_type": "code",
   "execution_count": null,
   "metadata": {},
   "outputs": [],
   "source": [
    "#q2.hint()\n",
    "#q2.solution()"
   ]
  },
  {
   "cell_type": "markdown",
   "metadata": {},
   "source": [
    "## 3.\n",
    "Sometimes the price column is null. How many reviews in the dataset are missing a price?"
   ]
  },
  {
   "cell_type": "code",
   "execution_count": 29,
   "metadata": {
    "execution": {
     "iopub.execute_input": "2021-10-11T09:48:09.675345Z",
     "iopub.status.busy": "2021-10-11T09:48:09.675062Z",
     "iopub.status.idle": "2021-10-11T09:48:09.693735Z",
     "shell.execute_reply": "2021-10-11T09:48:09.692295Z",
     "shell.execute_reply.started": "2021-10-11T09:48:09.675317Z"
    }
   },
   "outputs": [],
   "source": [
    "n_missing_prices =len(reviews[pd.isnull(reviews.price)])\n",
    "\n",
    "\n",
    "# Check your answer\n",
    "q3.check()"
   ]
  },
  {
   "cell_type": "markdown",
   "metadata": {},
   "source": [
    "## 4.\n",
    "What are the most common wine-producing regions? Create a Series counting the number of times each value occurs in the `region_1` field. This field is often missing data, so replace missing values with `Unknown`. Sort in descending order.  Your output should look something like this:\n",
    "\n",
    "```\n",
    "Unknown                    21247\n",
    "Napa Valley                 4480\n",
    "                           ...  \n",
    "Bardolino Superiore            1\n",
    "Primitivo del Tarantino        1\n",
    "Name: region_1, Length: 1230, dtype: int64\n",
    "```"
   ]
  },
  {
   "cell_type": "code",
   "execution_count": 32,
   "metadata": {
    "execution": {
     "iopub.execute_input": "2021-10-11T09:59:36.645111Z",
     "iopub.status.busy": "2021-10-11T09:59:36.643880Z",
     "iopub.status.idle": "2021-10-11T09:59:36.722144Z",
     "shell.execute_reply": "2021-10-11T09:59:36.721345Z",
     "shell.execute_reply.started": "2021-10-11T09:59:36.645053Z"
    }
   },
   "outputs": [],
   "source": [
    "reviews_per_region = reviews.region_1.fillna('Unknown').value_counts().sort_values(ascending=False)\n",
    "\n",
    "# Check your answer\n",
    "q4.check()"
   ]
  },
  {
   "cell_type": "code",
   "execution_count": null,
   "metadata": {},
   "outputs": [],
   "source": []
  },
  {
   "cell_type": "code",
   "execution_count": 31,
   "metadata": {
    "execution": {
     "iopub.execute_input": "2021-10-11T09:57:00.691142Z",
     "iopub.status.busy": "2021-10-11T09:57:00.690409Z",
     "iopub.status.idle": "2021-10-11T09:57:00.698225Z",
     "shell.execute_reply": "2021-10-11T09:57:00.697715Z",
     "shell.execute_reply.started": "2021-10-11T09:57:00.691088Z"
    }
   },
   "outputs": [],
   "source": [
    "#q4.hint()\n",
    "q4.solution()"
   ]
  },
  {
   "cell_type": "code",
   "execution_count": null,
   "metadata": {},
   "outputs": [],
   "source": []
  },
  {
   "cell_type": "markdown",
   "metadata": {},
   "source": [
    "# Keep going\n",
    "\n",
    "Move on to **[renaming and combining](https://www.kaggle.com/residentmario/renaming-and-combining)**."
   ]
  }
 ],
 "metadata": {
  "kernelspec": {
   "display_name": "Python 3",
   "language": "python",
   "name": "python3"
  },
  "language_info": {
   "codemirror_mode": {
    "name": "ipython",
    "version": 3
   },
   "file_extension": ".py",
   "mimetype": "text/x-python",
   "name": "python",
   "nbconvert_exporter": "python",
   "pygments_lexer": "ipython3",
   "version": "3.7.10"
  }
 },
 "nbformat": 4,
 "nbformat_minor": 4
}
