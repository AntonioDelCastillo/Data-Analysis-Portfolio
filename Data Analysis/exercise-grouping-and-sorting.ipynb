{
 "cells": [
  {
   "cell_type": "markdown",
   "metadata": {},
   "source": [
    "**This notebook is an exercise in the [Pandas](https://www.kaggle.com/learn/pandas) course.  You can reference the tutorial at [this link](https://www.kaggle.com/residentmario/grouping-and-sorting).**\n",
    "\n",
    "---\n"
   ]
  },
  {
   "cell_type": "markdown",
   "metadata": {},
   "source": [
    "# Introduction\n",
    "\n",
    "In these exercises we'll apply groupwise analysis to our dataset.\n",
    "\n",
    "Run the code cell below to load the data before running the exercises."
   ]
  },
  {
   "cell_type": "code",
   "execution_count": null,
   "metadata": {
    "execution": {
     "iopub.execute_input": "2021-10-11T08:43:47.192238Z",
     "iopub.status.busy": "2021-10-11T08:43:47.191783Z",
     "iopub.status.idle": "2021-10-11T08:43:50.373867Z",
     "shell.execute_reply": "2021-10-11T08:43:50.372747Z",
     "shell.execute_reply.started": "2021-10-11T08:43:47.192206Z"
    }
   },
   "outputs": [],
   "source": [
    "import pandas as pd\n",
    "\n",
    "reviews = pd.read_csv(\"../input/wine-reviews/winemag-data-130k-v2.csv\", index_col=0)\n",
    "#pd.set_option(\"display.max_rows\", 5)\n",
    "\n",
    "from learntools.core import binder; binder.bind(globals())\n",
    "from learntools.pandas.grouping_and_sorting import *\n",
    "print(\"Setup complete.\")"
   ]
  },
  {
   "cell_type": "markdown",
   "metadata": {},
   "source": [
    "# Exercises"
   ]
  },
  {
   "cell_type": "markdown",
   "metadata": {},
   "source": [
    "## 1.\n",
    "Who are the most common wine reviewers in the dataset? Create a `Series` whose index is the `taster_twitter_handle` category from the dataset, and whose values count how many reviews each person wrote."
   ]
  },
  {
   "cell_type": "code",
   "execution_count": null,
   "metadata": {
    "execution": {
     "iopub.execute_input": "2021-10-11T08:43:50.375672Z",
     "iopub.status.busy": "2021-10-11T08:43:50.375408Z",
     "iopub.status.idle": "2021-10-11T08:43:50.42284Z",
     "shell.execute_reply": "2021-10-11T08:43:50.421676Z",
     "shell.execute_reply.started": "2021-10-11T08:43:50.375644Z"
    }
   },
   "outputs": [],
   "source": [
    "# Your code here\n",
    "reviews_written = reviews.groupby('taster_twitter_handle').taster_twitter_handle.count()\n",
    "# Check your answer\n",
    "q1.check()"
   ]
  },
  {
   "cell_type": "code",
   "execution_count": null,
   "metadata": {
    "execution": {
     "iopub.execute_input": "2021-10-11T08:43:50.424421Z",
     "iopub.status.busy": "2021-10-11T08:43:50.424172Z",
     "iopub.status.idle": "2021-10-11T08:43:50.439375Z",
     "shell.execute_reply": "2021-10-11T08:43:50.438263Z",
     "shell.execute_reply.started": "2021-10-11T08:43:50.424395Z"
    }
   },
   "outputs": [],
   "source": [
    "q1.hint()\n",
    "q1.solution()"
   ]
  },
  {
   "cell_type": "markdown",
   "metadata": {},
   "source": [
    "## 2.\n",
    "What is the best wine I can buy for a given amount of money? Create a `Series` whose index is wine prices and whose values is the maximum number of points a wine costing that much was given in a review. Sort the values by price, ascending (so that `4.0` dollars is at the top and `3300.0` dollars is at the bottom)."
   ]
  },
  {
   "cell_type": "code",
   "execution_count": null,
   "metadata": {
    "execution": {
     "iopub.execute_input": "2021-10-11T08:43:50.442501Z",
     "iopub.status.busy": "2021-10-11T08:43:50.441731Z",
     "iopub.status.idle": "2021-10-11T08:43:50.459718Z",
     "shell.execute_reply": "2021-10-11T08:43:50.458406Z",
     "shell.execute_reply.started": "2021-10-11T08:43:50.442449Z"
    }
   },
   "outputs": [],
   "source": [
    "best_rating_per_price =reviews.groupby('price')['points'].max().sort_index()\n",
    "\n",
    "# Check your answer\n",
    "q2.check()"
   ]
  },
  {
   "cell_type": "code",
   "execution_count": null,
   "metadata": {
    "execution": {
     "iopub.execute_input": "2021-10-11T08:43:50.462438Z",
     "iopub.status.busy": "2021-10-11T08:43:50.461673Z",
     "iopub.status.idle": "2021-10-11T08:43:50.477439Z",
     "shell.execute_reply": "2021-10-11T08:43:50.476312Z",
     "shell.execute_reply.started": "2021-10-11T08:43:50.46239Z"
    }
   },
   "outputs": [],
   "source": [
    "q2.hint()\n",
    "q2.solution()"
   ]
  },
  {
   "cell_type": "markdown",
   "metadata": {},
   "source": [
    "## 3.\n",
    "What are the minimum and maximum prices for each `variety` of wine? Create a `DataFrame` whose index is the `variety` category from the dataset and whose values are the `min` and `max` values thereof."
   ]
  },
  {
   "cell_type": "code",
   "execution_count": null,
   "metadata": {
    "execution": {
     "iopub.execute_input": "2021-10-11T08:43:50.478883Z",
     "iopub.status.busy": "2021-10-11T08:43:50.478623Z",
     "iopub.status.idle": "2021-10-11T08:43:50.519382Z",
     "shell.execute_reply": "2021-10-11T08:43:50.518119Z",
     "shell.execute_reply.started": "2021-10-11T08:43:50.478856Z"
    }
   },
   "outputs": [],
   "source": [
    "price_extremes =reviews.groupby('variety').price.agg([min,max])\n",
    "\n",
    "# Check your answer\n",
    "q3.check()"
   ]
  },
  {
   "cell_type": "code",
   "execution_count": null,
   "metadata": {
    "execution": {
     "iopub.execute_input": "2021-10-11T08:43:50.521161Z",
     "iopub.status.busy": "2021-10-11T08:43:50.520867Z",
     "iopub.status.idle": "2021-10-11T08:43:50.526692Z",
     "shell.execute_reply": "2021-10-11T08:43:50.525755Z",
     "shell.execute_reply.started": "2021-10-11T08:43:50.521129Z"
    }
   },
   "outputs": [],
   "source": [
    "#q3.hint()\n",
    "#q3.solution()"
   ]
  },
  {
   "cell_type": "markdown",
   "metadata": {},
   "source": [
    "## 4.\n",
    "What are the most expensive wine varieties? Create a variable `sorted_varieties` containing a copy of the dataframe from the previous question where varieties are sorted in descending order based on minimum price, then on maximum price (to break ties)."
   ]
  },
  {
   "cell_type": "code",
   "execution_count": null,
   "metadata": {
    "execution": {
     "iopub.execute_input": "2021-10-11T08:46:16.295546Z",
     "iopub.status.busy": "2021-10-11T08:46:16.295074Z",
     "iopub.status.idle": "2021-10-11T08:46:16.321985Z",
     "shell.execute_reply": "2021-10-11T08:46:16.321158Z",
     "shell.execute_reply.started": "2021-10-11T08:46:16.295494Z"
    }
   },
   "outputs": [],
   "source": [
    "sorted_varieties = price_extremes.sort_values(by=['min', 'max'], ascending=False)\n",
    "sorted_varieties\n",
    "# Check your answer\n",
    "#q4.check()"
   ]
  },
  {
   "cell_type": "code",
   "execution_count": null,
   "metadata": {
    "execution": {
     "iopub.execute_input": "2021-10-11T08:45:21.26134Z",
     "iopub.status.busy": "2021-10-11T08:45:21.260575Z",
     "iopub.status.idle": "2021-10-11T08:45:21.272569Z",
     "shell.execute_reply": "2021-10-11T08:45:21.271716Z",
     "shell.execute_reply.started": "2021-10-11T08:45:21.261297Z"
    }
   },
   "outputs": [],
   "source": [
    "q4.hint()\n",
    "q4.solution()"
   ]
  },
  {
   "cell_type": "markdown",
   "metadata": {},
   "source": [
    "## 5.\n",
    "Create a `Series` whose index is reviewers and whose values is the average review score given out by that reviewer. Hint: you will need the `taster_name` and `points` columns."
   ]
  },
  {
   "cell_type": "code",
   "execution_count": null,
   "metadata": {
    "execution": {
     "iopub.execute_input": "2021-10-11T08:50:16.260167Z",
     "iopub.status.busy": "2021-10-11T08:50:16.259508Z",
     "iopub.status.idle": "2021-10-11T08:50:16.289174Z",
     "shell.execute_reply": "2021-10-11T08:50:16.28846Z",
     "shell.execute_reply.started": "2021-10-11T08:50:16.260128Z"
    }
   },
   "outputs": [],
   "source": [
    "reviewer_mean_ratings =reviews.groupby('taster_name').points.mean()\n",
    "\n",
    "# Check your answer\n",
    "q5.check()"
   ]
  },
  {
   "cell_type": "code",
   "execution_count": null,
   "metadata": {},
   "outputs": [],
   "source": []
  },
  {
   "cell_type": "code",
   "execution_count": null,
   "metadata": {
    "execution": {
     "iopub.execute_input": "2021-10-11T08:50:21.776044Z",
     "iopub.status.busy": "2021-10-11T08:50:21.775742Z",
     "iopub.status.idle": "2021-10-11T08:50:21.783497Z",
     "shell.execute_reply": "2021-10-11T08:50:21.782563Z",
     "shell.execute_reply.started": "2021-10-11T08:50:21.776014Z"
    }
   },
   "outputs": [],
   "source": [
    "#q5.hint()\n",
    "q5.solution()"
   ]
  },
  {
   "cell_type": "markdown",
   "metadata": {},
   "source": [
    "Are there significant differences in the average scores assigned by the various reviewers? Run the cell below to use the `describe()` method to see a summary of the range of values."
   ]
  },
  {
   "cell_type": "code",
   "execution_count": null,
   "metadata": {
    "execution": {
     "iopub.execute_input": "2021-10-11T08:50:40.820043Z",
     "iopub.status.busy": "2021-10-11T08:50:40.819751Z",
     "iopub.status.idle": "2021-10-11T08:50:40.830724Z",
     "shell.execute_reply": "2021-10-11T08:50:40.829676Z",
     "shell.execute_reply.started": "2021-10-11T08:50:40.820014Z"
    }
   },
   "outputs": [],
   "source": [
    "reviewer_mean_ratings.describe()"
   ]
  },
  {
   "cell_type": "markdown",
   "metadata": {},
   "source": [
    "## 6.\n",
    "What combination of countries and varieties are most common? Create a `Series` whose index is a `MultiIndex`of `{country, variety}` pairs. For example, a pinot noir produced in the US should map to `{\"US\", \"Pinot Noir\"}`. Sort the values in the `Series` in descending order based on wine count."
   ]
  },
  {
   "cell_type": "code",
   "execution_count": null,
   "metadata": {
    "execution": {
     "iopub.execute_input": "2021-10-11T09:03:17.169881Z",
     "iopub.status.busy": "2021-10-11T09:03:17.169585Z",
     "iopub.status.idle": "2021-10-11T09:03:17.236655Z",
     "shell.execute_reply": "2021-10-11T09:03:17.235785Z",
     "shell.execute_reply.started": "2021-10-11T09:03:17.169852Z"
    }
   },
   "outputs": [],
   "source": [
    "country_variety_counts = reviews.groupby(['country', 'variety']).title.count().sort_values(ascending=False)\n",
    "# Check your answer\n",
    "q6.check()"
   ]
  },
  {
   "cell_type": "code",
   "execution_count": null,
   "metadata": {
    "execution": {
     "iopub.execute_input": "2021-10-11T09:03:25.92908Z",
     "iopub.status.busy": "2021-10-11T09:03:25.928674Z",
     "iopub.status.idle": "2021-10-11T09:03:25.943637Z",
     "shell.execute_reply": "2021-10-11T09:03:25.942814Z",
     "shell.execute_reply.started": "2021-10-11T09:03:25.92904Z"
    }
   },
   "outputs": [],
   "source": [
    "q6.hint()\n",
    "q6.solution()"
   ]
  },
  {
   "cell_type": "code",
   "execution_count": null,
   "metadata": {},
   "outputs": [],
   "source": []
  },
  {
   "cell_type": "markdown",
   "metadata": {},
   "source": [
    "# Keep going\n",
    "\n",
    "Move on to the [**data types and missing data**](https://www.kaggle.com/residentmario/data-types-and-missing-values)."
   ]
  }
 ],
 "metadata": {
  "kernelspec": {
   "display_name": "Python 3",
   "language": "python",
   "name": "python3"
  },
  "language_info": {
   "codemirror_mode": {
    "name": "ipython",
    "version": 3
   },
   "file_extension": ".py",
   "mimetype": "text/x-python",
   "name": "python",
   "nbconvert_exporter": "python",
   "pygments_lexer": "ipython3",
   "version": "3.7.10"
  }
 },
 "nbformat": 4,
 "nbformat_minor": 4
}
